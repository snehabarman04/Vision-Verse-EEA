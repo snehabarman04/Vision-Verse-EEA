{
  "nbformat": 4,
  "nbformat_minor": 0,
  "metadata": {
    "colab": {
      "provenance": []
    },
    "kernelspec": {
      "name": "python3",
      "display_name": "Python 3"
    },
    "language_info": {
      "name": "python"
    }
  },
  "cells": [
    {
      "cell_type": "markdown",
      "source": [
        "Save a copy in Drive of the given notebook and make changes.\n",
        "\n",
        "Output for each of the questions is provided below each question. You need to produce the same output."
      ],
      "metadata": {
        "id": "DRMwEtL9TMHl"
      }
    },
    {
      "cell_type": "code",
      "source": [
        "import numpy as np"
      ],
      "metadata": {
        "id": "VeuI0DyQTq50"
      },
      "execution_count": null,
      "outputs": []
    },
    {
      "cell_type": "markdown",
      "source": [
        " 1. Create a 4x6 numpy array filled with all zeros."
      ],
      "metadata": {
        "id": "vzpMMu5tlLQl"
      }
    },
    {
      "cell_type": "code",
      "source": [
        "arr=np.zeros([4,6], dtype=int)\n",
        "print(arr)"
      ],
      "metadata": {
        "colab": {
          "base_uri": "https://localhost:8080/"
        },
        "id": "n6yPmDGNl5yz",
        "outputId": "de021a24-13fa-463e-ca39-6bd03682f2ae"
      },
      "execution_count": null,
      "outputs": [
        {
          "output_type": "stream",
          "name": "stdout",
          "text": [
            "[[0 0 0 0 0 0]\n",
            " [0 0 0 0 0 0]\n",
            " [0 0 0 0 0 0]\n",
            " [0 0 0 0 0 0]]\n"
          ]
        }
      ]
    },
    {
      "cell_type": "markdown",
      "source": [
        "2. Create a 5x5 numpy array filled with all ones."
      ],
      "metadata": {
        "id": "h2FIk_vNmvRa"
      }
    },
    {
      "cell_type": "code",
      "source": [
        "ar=np.ones((5,5))\n",
        "print(ar)\n"
      ],
      "metadata": {
        "colab": {
          "base_uri": "https://localhost:8080/"
        },
        "id": "brCfmuw0m-yW",
        "outputId": "46ad56c3-8adb-4ae5-cebf-bb119cbb5bb4"
      },
      "execution_count": null,
      "outputs": [
        {
          "output_type": "stream",
          "name": "stdout",
          "text": [
            "[[1. 1. 1. 1. 1.]\n",
            " [1. 1. 1. 1. 1.]\n",
            " [1. 1. 1. 1. 1.]\n",
            " [1. 1. 1. 1. 1.]\n",
            " [1. 1. 1. 1. 1.]]\n"
          ]
        }
      ]
    },
    {
      "cell_type": "markdown",
      "source": [
        "3.Create an array of (4,5) filled with 4."
      ],
      "metadata": {
        "id": "QI3JcIBRQgdV"
      }
    },
    {
      "cell_type": "code",
      "source": [
        "A=np.full((4,5),4)\n",
        "print(A)"
      ],
      "metadata": {
        "colab": {
          "base_uri": "https://localhost:8080/"
        },
        "id": "yNZmcJQYQnTq",
        "outputId": "6ed0d6bc-a162-4a41-f178-8ee82a717f25"
      },
      "execution_count": null,
      "outputs": [
        {
          "output_type": "stream",
          "name": "stdout",
          "text": [
            "[[4 4 4 4 4]\n",
            " [4 4 4 4 4]\n",
            " [4 4 4 4 4]\n",
            " [4 4 4 4 4]]\n"
          ]
        }
      ]
    },
    {
      "cell_type": "markdown",
      "source": [
        "For questions 4-13, consider the matrix\n",
        "\n",
        "a=[[1,2,3],[1,4,5],[8,4,2]]\n",
        "\n",
        "\n",
        "4. Write a code to get print the shape of the given matrix.\n",
        "\n",
        "\n"
      ],
      "metadata": {
        "id": "9EPUHqRWxUGG"
      }
    },
    {
      "cell_type": "code",
      "source": [
        "a=np.array([[1,2,3],[1,4,5],[8,4,2]])\n",
        "a.shape"
      ],
      "metadata": {
        "colab": {
          "base_uri": "https://localhost:8080/"
        },
        "id": "wvDHpmw8xUf0",
        "outputId": "16002973-adad-4b8c-a559-bd47d759907b"
      },
      "execution_count": null,
      "outputs": [
        {
          "output_type": "execute_result",
          "data": {
            "text/plain": [
              "(3, 3)"
            ]
          },
          "metadata": {},
          "execution_count": 5
        }
      ]
    },
    {
      "cell_type": "markdown",
      "source": [
        "5.Write the code to print number of elements in a."
      ],
      "metadata": {
        "id": "8RZy077YyOCP"
      }
    },
    {
      "cell_type": "code",
      "source": [
        "np.size(a)"
      ],
      "metadata": {
        "colab": {
          "base_uri": "https://localhost:8080/"
        },
        "id": "52TT7eTmyOec",
        "outputId": "4e6bd918-d57c-400e-e330-38d5872599fd"
      },
      "execution_count": null,
      "outputs": [
        {
          "output_type": "execute_result",
          "data": {
            "text/plain": [
              "9"
            ]
          },
          "metadata": {},
          "execution_count": 6
        }
      ]
    },
    {
      "cell_type": "markdown",
      "source": [
        "6. Print the 2nd row,1st column and element at (1,2) of a."
      ],
      "metadata": {
        "id": "luN65JwsywXF"
      }
    },
    {
      "cell_type": "code",
      "source": [
        "print(a[2])\n",
        "print(a[:,1])\n",
        "print(a[1,2])"
      ],
      "metadata": {
        "colab": {
          "base_uri": "https://localhost:8080/"
        },
        "id": "3vaGSKkvywqE",
        "outputId": "3ed5dd63-2aee-487b-8ec8-4a51ee3c3556"
      },
      "execution_count": null,
      "outputs": [
        {
          "output_type": "stream",
          "name": "stdout",
          "text": [
            "[8 4 2]\n",
            "[2 4 4]\n",
            "5\n"
          ]
        }
      ]
    },
    {
      "cell_type": "markdown",
      "source": [
        "7. Change the element at (2,1) to 5."
      ],
      "metadata": {
        "id": "Tl8iW0SB0SAz"
      }
    },
    {
      "cell_type": "code",
      "source": [
        "a[2,1]=5\n",
        "print(a)"
      ],
      "metadata": {
        "colab": {
          "base_uri": "https://localhost:8080/"
        },
        "id": "X-J4EVFy0SX9",
        "outputId": "def3766f-98ff-4901-85c8-75d6fb794b7b"
      },
      "execution_count": null,
      "outputs": [
        {
          "output_type": "stream",
          "name": "stdout",
          "text": [
            "[[1 2 3]\n",
            " [1 4 5]\n",
            " [8 5 2]]\n"
          ]
        }
      ]
    },
    {
      "cell_type": "markdown",
      "source": [
        "8. Print the first and the last element of the first row using stepsize approach."
      ],
      "metadata": {
        "id": "_ZEJ3V01OCPv"
      }
    },
    {
      "cell_type": "code",
      "source": [
        "d=np.array([a[0,0],a[0,-1]])\n",
        "d"
      ],
      "metadata": {
        "colab": {
          "base_uri": "https://localhost:8080/"
        },
        "id": "Ls6bN0l8OCfI",
        "outputId": "ba27aefc-9467-4796-e999-9faf6e7a2a72"
      },
      "execution_count": null,
      "outputs": [
        {
          "output_type": "execute_result",
          "data": {
            "text/plain": [
              "array([1, 3])"
            ]
          },
          "metadata": {},
          "execution_count": 9
        }
      ]
    },
    {
      "cell_type": "markdown",
      "source": [
        "9. Print the maximum and minimum values of a."
      ],
      "metadata": {
        "id": "q5uREqwgPMPz"
      }
    },
    {
      "cell_type": "code",
      "source": [
        "print(np.max(a))\n",
        "print(np.min(a))"
      ],
      "metadata": {
        "colab": {
          "base_uri": "https://localhost:8080/"
        },
        "id": "boAOEPupPrld",
        "outputId": "cf954732-aeb8-4c93-8e05-56dfc3b081bc"
      },
      "execution_count": null,
      "outputs": [
        {
          "output_type": "stream",
          "name": "stdout",
          "text": [
            "8\n",
            "1\n"
          ]
        }
      ]
    },
    {
      "cell_type": "markdown",
      "source": [
        "10. Print row-wise maximum values and their indicies of a."
      ],
      "metadata": {
        "id": "9QElTp8gP8QW"
      }
    },
    {
      "cell_type": "code",
      "source": [
        "print(np.amax(a, axis=1))\n",
        "print(np.argmax(a, axis=1))"
      ],
      "metadata": {
        "colab": {
          "base_uri": "https://localhost:8080/"
        },
        "id": "O5L3zh78QEf_",
        "outputId": "07747f97-9589-4fc9-b997-985860d6f28c"
      },
      "execution_count": null,
      "outputs": [
        {
          "output_type": "stream",
          "name": "stdout",
          "text": [
            "[3 5 8]\n",
            "[2 2 0]\n"
          ]
        }
      ]
    },
    {
      "cell_type": "markdown",
      "source": [
        "11. Divide all the elements of a by 4."
      ],
      "metadata": {
        "id": "0IE744FoQSWG"
      }
    },
    {
      "cell_type": "code",
      "source": [
        "a/4"
      ],
      "metadata": {
        "colab": {
          "base_uri": "https://localhost:8080/"
        },
        "id": "oPCET_aGRUZs",
        "outputId": "bab87fa1-d4e2-4d7c-f787-0626b010666f"
      },
      "execution_count": null,
      "outputs": [
        {
          "output_type": "execute_result",
          "data": {
            "text/plain": [
              "array([[0.25, 0.5 , 0.75],\n",
              "       [0.25, 1.  , 1.25],\n",
              "       [2.  , 1.25, 0.5 ]])"
            ]
          },
          "metadata": {},
          "execution_count": 12
        }
      ]
    },
    {
      "cell_type": "markdown",
      "source": [
        "12. Sort a along the second axis."
      ],
      "metadata": {
        "id": "XJC4bsKqZGH5"
      }
    },
    {
      "cell_type": "code",
      "source": [
        "a.sort(axis=1)\n",
        "a"
      ],
      "metadata": {
        "colab": {
          "base_uri": "https://localhost:8080/"
        },
        "id": "KNvZ1--cZJqQ",
        "outputId": "29e1b02c-ce31-4e31-b216-a91d689ef3c3"
      },
      "execution_count": null,
      "outputs": [
        {
          "output_type": "execute_result",
          "data": {
            "text/plain": [
              "array([[1, 2, 3],\n",
              "       [1, 4, 5],\n",
              "       [2, 5, 8]])"
            ]
          },
          "metadata": {},
          "execution_count": 13
        }
      ]
    },
    {
      "cell_type": "markdown",
      "source": [
        "13. Print the indices that would sort a along the second axis."
      ],
      "metadata": {
        "id": "sJwxQ-DFZOab"
      }
    },
    {
      "cell_type": "code",
      "source": [
        "sort_a=np.argsort(a,axis=1)\n",
        "sort_a"
      ],
      "metadata": {
        "colab": {
          "base_uri": "https://localhost:8080/"
        },
        "id": "MunD903tZVD-",
        "outputId": "d403defb-cd6f-4693-cf91-92d0df3f3132"
      },
      "execution_count": null,
      "outputs": [
        {
          "output_type": "execute_result",
          "data": {
            "text/plain": [
              "array([[0, 1, 2],\n",
              "       [0, 1, 2],\n",
              "       [0, 1, 2]])"
            ]
          },
          "metadata": {},
          "execution_count": 14
        }
      ]
    },
    {
      "cell_type": "markdown",
      "source": [
        "14. Create an identity matrix of size 6x6."
      ],
      "metadata": {
        "id": "BoUOb-UORXum"
      }
    },
    {
      "cell_type": "code",
      "source": [
        "ident=np.eye(6)\n",
        "print(ident)"
      ],
      "metadata": {
        "colab": {
          "base_uri": "https://localhost:8080/"
        },
        "id": "Pgt0H_6tRmMg",
        "outputId": "8b890d24-bff2-4ac8-e6ab-3bff1b8c4c05"
      },
      "execution_count": null,
      "outputs": [
        {
          "output_type": "stream",
          "name": "stdout",
          "text": [
            "[[1. 0. 0. 0. 0. 0.]\n",
            " [0. 1. 0. 0. 0. 0.]\n",
            " [0. 0. 1. 0. 0. 0.]\n",
            " [0. 0. 0. 1. 0. 0.]\n",
            " [0. 0. 0. 0. 1. 0.]\n",
            " [0. 0. 0. 0. 0. 1.]]\n"
          ]
        }
      ]
    },
    {
      "cell_type": "markdown",
      "source": [
        "15. Let b=[1,4,3,2,6,8,5,4,2,0], split b into 3 arrays each of 3,4,3 elements."
      ],
      "metadata": {
        "id": "4flSMoMVRrwm"
      }
    },
    {
      "cell_type": "code",
      "source": [
        "b=np.array([1,4,3,2,6,8,5,4,2,0])\n",
        "split_arrays = np.split(b,[3,7])\n",
        "split_arrays"
      ],
      "metadata": {
        "id": "j2d8D-mfRWxI",
        "colab": {
          "base_uri": "https://localhost:8080/"
        },
        "outputId": "c996e7df-9e79-49ba-dda1-e5b55fc34832"
      },
      "execution_count": null,
      "outputs": [
        {
          "output_type": "execute_result",
          "data": {
            "text/plain": [
              "[array([1, 4, 3]), array([2, 6, 8, 5]), array([4, 2, 0])]"
            ]
          },
          "metadata": {},
          "execution_count": 16
        }
      ]
    },
    {
      "cell_type": "markdown",
      "source": [
        "16.Create a 1-D array of 40 evenly spaced elements between 0. and 1., inclusive."
      ],
      "metadata": {
        "id": "ZiDMu4HQzzh4"
      }
    },
    {
      "cell_type": "code",
      "source": [
        "eve_space=np.linspace(0,1,40)\n",
        "eve_space"
      ],
      "metadata": {
        "colab": {
          "base_uri": "https://localhost:8080/"
        },
        "id": "ZUqfFQAZzydo",
        "outputId": "aeb237d4-5cc4-41d8-e569-c2d230afcd78"
      },
      "execution_count": null,
      "outputs": [
        {
          "output_type": "execute_result",
          "data": {
            "text/plain": [
              "array([0.        , 0.02564103, 0.05128205, 0.07692308, 0.1025641 ,\n",
              "       0.12820513, 0.15384615, 0.17948718, 0.20512821, 0.23076923,\n",
              "       0.25641026, 0.28205128, 0.30769231, 0.33333333, 0.35897436,\n",
              "       0.38461538, 0.41025641, 0.43589744, 0.46153846, 0.48717949,\n",
              "       0.51282051, 0.53846154, 0.56410256, 0.58974359, 0.61538462,\n",
              "       0.64102564, 0.66666667, 0.69230769, 0.71794872, 0.74358974,\n",
              "       0.76923077, 0.79487179, 0.82051282, 0.84615385, 0.87179487,\n",
              "       0.8974359 , 0.92307692, 0.94871795, 0.97435897, 1.        ])"
            ]
          },
          "metadata": {},
          "execution_count": 17
        }
      ]
    },
    {
      "cell_type": "markdown",
      "source": [
        "17. Mutliply given arrays element-wise.\n",
        "\n",
        "a=[[4,7,2],[1,3,9]]\n",
        "\n",
        "b=[[1,5,0],[2,7,5]]"
      ],
      "metadata": {
        "id": "U4BSpQosnREt"
      }
    },
    {
      "cell_type": "code",
      "source": [
        "a=np.array([[4,7,2],[1,3,9]])\n",
        "b=np.array([[1,5,0],[2,7,5]])\n",
        "a*b"
      ],
      "metadata": {
        "colab": {
          "base_uri": "https://localhost:8080/"
        },
        "id": "3cDb_yGInQBP",
        "outputId": "b5e85c54-55b5-4705-b2cc-1298e2e528c1"
      },
      "execution_count": null,
      "outputs": [
        {
          "output_type": "execute_result",
          "data": {
            "text/plain": [
              "array([[ 4, 35,  0],\n",
              "       [ 2, 21, 45]])"
            ]
          },
          "metadata": {},
          "execution_count": 18
        }
      ]
    },
    {
      "cell_type": "markdown",
      "source": [
        "18. Create a 3x2 array with random values from 0 to 1."
      ],
      "metadata": {
        "id": "eTjRvsNmo1dm"
      }
    },
    {
      "cell_type": "code",
      "source": [
        "rand=np.random.random((3,2))\n",
        "rand"
      ],
      "metadata": {
        "colab": {
          "base_uri": "https://localhost:8080/"
        },
        "id": "9OaI6Vjd0_3Z",
        "outputId": "e921f311-b222-4f2c-a006-99534caf5ae1"
      },
      "execution_count": null,
      "outputs": [
        {
          "output_type": "execute_result",
          "data": {
            "text/plain": [
              "array([[0.65673407, 0.82523304],\n",
              "       [0.90450086, 0.13788132],\n",
              "       [0.93796148, 0.49876011]])"
            ]
          },
          "metadata": {},
          "execution_count": 19
        }
      ]
    },
    {
      "cell_type": "code",
      "source": [],
      "metadata": {
        "id": "1xaMoRM7-E8R"
      },
      "execution_count": null,
      "outputs": []
    }
  ]
}