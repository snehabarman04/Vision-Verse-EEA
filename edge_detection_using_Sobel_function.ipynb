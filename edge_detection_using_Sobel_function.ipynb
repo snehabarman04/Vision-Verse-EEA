{
  "nbformat": 4,
  "nbformat_minor": 0,
  "metadata": {
    "colab": {
      "provenance": []
    },
    "kernelspec": {
      "name": "python3",
      "display_name": "Python 3"
    },
    "language_info": {
      "name": "python"
    }
  },
  "cells": [
    {
      "cell_type": "code",
      "execution_count": null,
      "metadata": {
        "id": "z86ZhSiHyL7h",
        "colab": {
          "base_uri": "https://localhost:8080/"
        },
        "outputId": "afe3ec3d-b4a2-40a2-dcdc-8c53cd0921c0"
      },
      "outputs": [
        {
          "output_type": "stream",
          "name": "stdout",
          "text": [
            "Mounted at /content/drive\n"
          ]
        }
      ],
      "source": [
        "import cv2\n",
        "from google.colab.patches import cv2_imshow\n",
        "import matplotlib.pyplot as plt\n",
        "from google.colab import drive\n",
        "drive.mount('/content/drive')"
      ]
    },
    {
      "cell_type": "code",
      "source": [
        "# Read the original image\n",
        "image1 = '/content/drive/MyDrive/2.jpeg'\n",
        "img = cv2.imread(image1,flags=0)\n",
        "# Blur the image for better edge detection\n",
        "img_blur = cv2.GaussianBlur(img,(3,3), sigmaX=0, sigmaY=0)\n",
        "cv2_imshow(img)\n",
        "print('Original Image\\n')\n",
        "cv2_imshow(img_blur)\n",
        "print('Blurred Image')"
      ],
      "metadata": {
        "colab": {
          "base_uri": "https://localhost:8080/",
          "height": 211
        },
        "id": "muCpK-yzQOIZ",
        "outputId": "51c89835-ea10-49da-c25b-5995d67e5c04"
      },
      "execution_count": null,
      "outputs": [
        {
          "output_type": "error",
          "ename": "error",
          "evalue": "OpenCV(4.8.0) /io/opencv/modules/imgproc/src/smooth.dispatch.cpp:617: error: (-215:Assertion failed) !_src.empty() in function 'GaussianBlur'\n",
          "traceback": [
            "\u001b[0;31m---------------------------------------------------------------------------\u001b[0m",
            "\u001b[0;31merror\u001b[0m                                     Traceback (most recent call last)",
            "\u001b[0;32m<ipython-input-2-3debee0165d0>\u001b[0m in \u001b[0;36m<cell line: 5>\u001b[0;34m()\u001b[0m\n\u001b[1;32m      3\u001b[0m \u001b[0mimg\u001b[0m \u001b[0;34m=\u001b[0m \u001b[0mcv2\u001b[0m\u001b[0;34m.\u001b[0m\u001b[0mimread\u001b[0m\u001b[0;34m(\u001b[0m\u001b[0mimage1\u001b[0m\u001b[0;34m,\u001b[0m\u001b[0mflags\u001b[0m\u001b[0;34m=\u001b[0m\u001b[0;36m0\u001b[0m\u001b[0;34m)\u001b[0m\u001b[0;34m\u001b[0m\u001b[0;34m\u001b[0m\u001b[0m\n\u001b[1;32m      4\u001b[0m \u001b[0;31m# Blur the image for better edge detection\u001b[0m\u001b[0;34m\u001b[0m\u001b[0;34m\u001b[0m\u001b[0m\n\u001b[0;32m----> 5\u001b[0;31m \u001b[0mimg_blur\u001b[0m \u001b[0;34m=\u001b[0m \u001b[0mcv2\u001b[0m\u001b[0;34m.\u001b[0m\u001b[0mGaussianBlur\u001b[0m\u001b[0;34m(\u001b[0m\u001b[0mimg\u001b[0m\u001b[0;34m,\u001b[0m\u001b[0;34m(\u001b[0m\u001b[0;36m3\u001b[0m\u001b[0;34m,\u001b[0m\u001b[0;36m3\u001b[0m\u001b[0;34m)\u001b[0m\u001b[0;34m,\u001b[0m \u001b[0msigmaX\u001b[0m\u001b[0;34m=\u001b[0m\u001b[0;36m0\u001b[0m\u001b[0;34m,\u001b[0m \u001b[0msigmaY\u001b[0m\u001b[0;34m=\u001b[0m\u001b[0;36m0\u001b[0m\u001b[0;34m)\u001b[0m\u001b[0;34m\u001b[0m\u001b[0;34m\u001b[0m\u001b[0m\n\u001b[0m\u001b[1;32m      6\u001b[0m \u001b[0mcv2_imshow\u001b[0m\u001b[0;34m(\u001b[0m\u001b[0mimg\u001b[0m\u001b[0;34m)\u001b[0m\u001b[0;34m\u001b[0m\u001b[0;34m\u001b[0m\u001b[0m\n\u001b[1;32m      7\u001b[0m \u001b[0mprint\u001b[0m\u001b[0;34m(\u001b[0m\u001b[0;34m'Original Image\\n'\u001b[0m\u001b[0;34m)\u001b[0m\u001b[0;34m\u001b[0m\u001b[0;34m\u001b[0m\u001b[0m\n",
            "\u001b[0;31merror\u001b[0m: OpenCV(4.8.0) /io/opencv/modules/imgproc/src/smooth.dispatch.cpp:617: error: (-215:Assertion failed) !_src.empty() in function 'GaussianBlur'\n"
          ]
        }
      ]
    },
    {
      "cell_type": "code",
      "source": [
        "sobelx = cv2.Sobel(src=img_blur, ddepth=cv2.CV_64F, dx=1, dy=0, ksize=5)\n",
        "sobely = cv2.Sobel(src=img_blur, ddepth=cv2.CV_64F, dx=0, dy=1, ksize=5)\n",
        "sobelxy = cv2.Sobel(src=img_blur, ddepth=cv2.CV_64F, dx=1, dy=1, ksize=5)"
      ],
      "metadata": {
        "id": "hRA8f_zlQatz"
      },
      "execution_count": null,
      "outputs": []
    },
    {
      "cell_type": "code",
      "source": [
        "cv2_imshow(sobelx)\n",
        "print('Sobel X\\n')\n",
        "cv2_imshow(sobely)\n",
        "print('Sobel Y\\n')\n",
        "cv2_imshow(sobelxy)\n",
        "print('Sobel X Y using the Sobel() function\\n')"
      ],
      "metadata": {
        "id": "7ZejWtsJXJDk"
      },
      "execution_count": null,
      "outputs": []
    },
    {
      "cell_type": "code",
      "source": [
        "#repeating the same for the other two pictures too\n",
        "# Read the original image\n",
        "image2 = '/content/drive/MyDrive/3.jpeg'\n",
        "img = cv2.imread(image2,flags=0)\n",
        "# Blur the image for better edge detection\n",
        "img_blur = cv2.GaussianBlur(img,(3,3), sigmaX=0, sigmaY=0)\n",
        "cv2_imshow(img)\n",
        "print('Original Image\\n')\n",
        "cv2_imshow(img_blur)\n",
        "print('Blurred Image')"
      ],
      "metadata": {
        "id": "1uxBwD1dD7cB"
      },
      "execution_count": null,
      "outputs": []
    },
    {
      "cell_type": "code",
      "source": [
        "sobelx = cv2.Sobel(src=img_blur, ddepth=cv2.CV_64F, dx=1, dy=0, ksize=5)\n",
        "sobely = cv2.Sobel(src=img_blur, ddepth=cv2.CV_64F, dx=0, dy=1, ksize=5)\n",
        "sobelxy = cv2.Sobel(src=img_blur, ddepth=cv2.CV_64F, dx=1, dy=1, ksize=5)\n",
        "\n",
        "cv2_imshow(sobelx)\n",
        "print('Sobel X\\n')\n",
        "cv2_imshow(sobely)\n",
        "print('Sobel Y\\n')\n",
        "cv2_imshow(sobelxy)\n",
        "print('Sobel X Y using the Sobel() function\\n')"
      ],
      "metadata": {
        "id": "1syUc5pQEQIx"
      },
      "execution_count": null,
      "outputs": []
    },
    {
      "cell_type": "code",
      "source": [
        "# Read the original image\n",
        "image3 = '/content/drive/MyDrive/4.jpg'\n",
        "img = cv2.imread(image3,flags=0)\n",
        "# Blur the image for better edge detection\n",
        "img_blur = cv2.GaussianBlur(img,(3,3), sigmaX=0, sigmaY=0)\n",
        "cv2_imshow(img)\n",
        "print('Original Image\\n')\n",
        "cv2_imshow(img_blur)\n",
        "print('Blurred Image')"
      ],
      "metadata": {
        "id": "UZUi6ZB8E4Zr"
      },
      "execution_count": null,
      "outputs": []
    },
    {
      "cell_type": "code",
      "source": [
        "sobelx = cv2.Sobel(src=img_blur, ddepth=cv2.CV_64F, dx=1, dy=0, ksize=5)\n",
        "sobely = cv2.Sobel(src=img_blur, ddepth=cv2.CV_64F, dx=0, dy=1, ksize=5)\n",
        "sobelxy = cv2.Sobel(src=img_blur, ddepth=cv2.CV_64F, dx=1, dy=1, ksize=5)\n",
        "\n",
        "cv2_imshow(sobelx)\n",
        "print('Sobel X\\n')\n",
        "cv2_imshow(sobely)\n",
        "print('Sobel Y\\n')\n",
        "cv2_imshow(sobelxy)\n",
        "print('Sobel X Y using the Sobel() function\\n')"
      ],
      "metadata": {
        "id": "gqdySetNGhhn"
      },
      "execution_count": null,
      "outputs": []
    },
    {
      "cell_type": "code",
      "source": [],
      "metadata": {
        "id": "HolErbpWG2h5"
      },
      "execution_count": null,
      "outputs": []
    }
  ]
}